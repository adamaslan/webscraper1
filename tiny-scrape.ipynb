{
 "cells": [
  {
   "cell_type": "code",
   "execution_count": null,
   "metadata": {},
   "outputs": [],
   "source": [
    "import requests\n",
    "from bs4 import BeautifulSoup\n",
    "import csv\n",
    "from time import sleep\n",
    "\n",
    "# List of unique links\n",
    "unique_links = [\n",
    "    \"\"\n",
    "    \"https://www.drinksfoodlife.com/3valuewines\"\n",
    "    \"https://www.drinksfoodlife.com/sherry-cocktail-grandarmypunch\",\n",
    "    \"https://www.drinksfoodlife.com/about\",\n",
    "\n",
    "]\n",
    "\n",
    "# Function to scrape text from a URL\n",
    "def scrape_text_from_url(url):\n",
    "    try:\n",
    "        # Fetch the webpage content\n",
    "        response = requests.get(url, timeout=10)\n",
    "        response.raise_for_status()  # Raise an exception for HTTP errors\n",
    "        sleep(.3)\n",
    "        # Parse the content using BeautifulSoup\n",
    "        soup = BeautifulSoup(response.content, 'html.parser')\n",
    "\n",
    "        # Extract the text\n",
    "        text = soup.get_text(separator='\\n').strip()\n",
    "\n",
    "        return text\n",
    "    except Exception as e:\n",
    "        print(f\"Error fetching {url}: {e}\")\n",
    "        return None\n",
    "\n",
    "# Prepare the CSV file\n",
    "output_csv = \"articles.csv\"\n",
    "\n",
    "# Open the CSV file for writing\n",
    "with open(output_csv, mode=\"w\", newline=\"\", encoding=\"utf-8\") as file:\n",
    "    writer = csv.writer(file)\n",
    "    # Write the header\n",
    "    writer.writerow([\"articles\"])\n",
    "\n",
    "    # Iterate over the links and scrape text\n",
    "    for link in unique_links:\n",
    "        print(f\"Scraping: {link}\")\n",
    "        text = scrape_text_from_url(link)\n",
    "        if text:\n",
    "            writer.writerow([text])\n",
    "            print(f\"Successfully scraped and saved text from {link}\")\n",
    "        else:\n",
    "            print(f\"Failed to scrape {link}\")\n",
    "        print(\"-\" * 80)\n",
    "\n",
    "print(f\"Scraping complete! Data saved to {output_csv}\")\n"
   ]
  }
 ],
 "metadata": {
  "kernelspec": {
   "display_name": "nunu24",
   "language": "python",
   "name": "python3"
  },
  "language_info": {
   "name": "python",
   "version": "3.12.7"
  }
 },
 "nbformat": 4,
 "nbformat_minor": 2
}
